{
 "cells": [
  {
   "cell_type": "code",
   "execution_count": 4,
   "metadata": {},
   "outputs": [
    {
     "name": "stdout",
     "output_type": "stream",
     "text": [
      "No meta keywords found in the crawled data.\n"
     ]
    }
   ],
   "source": [
    "import advertools as adv\n",
    "import pandas as pd\n",
    " \n",
    "# The URL you want to extract meta keywords from\n",
    "url = 'https://techpath.biz/'\n",
    " \n",
    "# Specify the output file. The crawl function saves the crawled data into this file.\n",
    "output_file = 'crawl_data.jl'\n",
    " \n",
    "# Start the crawl (this may take some time depending on the site and amount of URLs to crawl)\n",
    "adv.crawl(url, output_file=output_file, custom_settings={'CLOSESPIDER_PAGECOUNT': 10})\n",
    " \n",
    "# Load the crawl data into a DataFrame\n",
    "df = pd.read_json(output_file, lines=True)\n",
    " \n",
    "# Extract meta keywords. Note: The column 'meta_keywords' comes from the crawled data.\n",
    "# This might need adjustment depending on the actual content of your crawled data.\n",
    "if 'meta_keywords' in df.columns:\n",
    "    meta_keywords = df['meta_keywords'].dropna()\n",
    " \n",
    "    # Display meta keywords\n",
    "    print(meta_keywords)\n",
    "   \n",
    "else:\n",
    "    print(\"No meta keywords found in the crawled data.\")"
   ]
  },
  {
   "cell_type": "code",
   "execution_count": 28,
   "metadata": {},
   "outputs": [
    {
     "data": {
      "text/html": [
       "<div>\n",
       "<style scoped>\n",
       "    .dataframe tbody tr th:only-of-type {\n",
       "        vertical-align: middle;\n",
       "    }\n",
       "\n",
       "    .dataframe tbody tr th {\n",
       "        vertical-align: top;\n",
       "    }\n",
       "\n",
       "    .dataframe thead th {\n",
       "        text-align: right;\n",
       "    }\n",
       "</style>\n",
       "<table border=\"1\" class=\"dataframe\">\n",
       "  <thead>\n",
       "    <tr style=\"text-align: right;\">\n",
       "      <th></th>\n",
       "      <th>Campaign</th>\n",
       "      <th>Ad Group</th>\n",
       "      <th>Keyword</th>\n",
       "      <th>Criterion Type</th>\n",
       "      <th>Labels</th>\n",
       "    </tr>\n",
       "  </thead>\n",
       "  <tbody>\n",
       "    <tr>\n",
       "      <th>0</th>\n",
       "      <td>SEM_Campaign</td>\n",
       "      <td>SEO</td>\n",
       "      <td>SEO services</td>\n",
       "      <td>Exact</td>\n",
       "      <td>Services</td>\n",
       "    </tr>\n",
       "    <tr>\n",
       "      <th>1</th>\n",
       "      <td>SEM_Campaign</td>\n",
       "      <td>SEO</td>\n",
       "      <td>SEO services</td>\n",
       "      <td>Phrase</td>\n",
       "      <td>Services</td>\n",
       "    </tr>\n",
       "    <tr>\n",
       "      <th>2</th>\n",
       "      <td>SEM_Campaign</td>\n",
       "      <td>SEO</td>\n",
       "      <td>+SEO +services</td>\n",
       "      <td>Broad</td>\n",
       "      <td>Services</td>\n",
       "    </tr>\n",
       "    <tr>\n",
       "      <th>3</th>\n",
       "      <td>SEM_Campaign</td>\n",
       "      <td>SEO</td>\n",
       "      <td>SEO provider</td>\n",
       "      <td>Exact</td>\n",
       "      <td>Provider</td>\n",
       "    </tr>\n",
       "    <tr>\n",
       "      <th>4</th>\n",
       "      <td>SEM_Campaign</td>\n",
       "      <td>SEO</td>\n",
       "      <td>SEO provider</td>\n",
       "      <td>Phrase</td>\n",
       "      <td>Provider</td>\n",
       "    </tr>\n",
       "  </tbody>\n",
       "</table>\n",
       "</div>"
      ],
      "text/plain": [
       "       Campaign Ad Group         Keyword Criterion Type    Labels\n",
       "0  SEM_Campaign      SEO    SEO services          Exact  Services\n",
       "1  SEM_Campaign      SEO    SEO services         Phrase  Services\n",
       "2  SEM_Campaign      SEO  +SEO +services          Broad  Services\n",
       "3  SEM_Campaign      SEO    SEO provider          Exact  Provider\n",
       "4  SEM_Campaign      SEO    SEO provider         Phrase  Provider"
      ]
     },
     "execution_count": 28,
     "metadata": {},
     "output_type": "execute_result"
    }
   ],
   "source": [
    "import advertools as adv\n",
    "products = ['bmw', 'toyota']\n",
    "words = ['buy', 'second hand']\n",
    "# kw_df = adv.kw_generate(products, words)\n",
    "# kw_df\n",
    "df= adv.kw_generate(['SEO'], ['services', 'provider'], capitalize_adgroups=False).head()\n",
    "df\n"
   ]
  },
  {
   "cell_type": "code",
   "execution_count": 35,
   "metadata": {},
   "outputs": [
    {
     "data": {
      "text/plain": [
       "['5-star Hotels In Dubai',\n",
       " '5-star Hotels In Tokyo',\n",
       " '5-star Hotels In Singapore']"
      ]
     },
     "execution_count": 35,
     "metadata": {},
     "output_type": "execute_result"
    }
   ],
   "source": [
    "import advertools as adv\n",
    "\n",
    "products = ['Dubai', 'Tokyo', 'Singapore']\n",
    "adv.ad_create(template='5-star Hotels in {}',\n",
    "            replacements=products,\n",
    "            max_len=30,\n",
    "            fallback='Great Cities')\n"
   ]
  },
  {
   "cell_type": "code",
   "execution_count": 41,
   "metadata": {},
   "outputs": [
    {
     "data": {
      "text/plain": [
       "['Get the latest gadget online.',\n",
       " 'The GX12 model comes with 13',\n",
       " 'things that do a lot of good',\n",
       " 'stuff for your health. Start shopping now.',\n",
       " '',\n",
       " '',\n",
       " '',\n",
       " '']"
      ]
     },
     "execution_count": 41,
     "metadata": {},
     "output_type": "execute_result"
    }
   ],
   "source": [
    "import advertools as adv\n",
    "text = \"Get the latest gadget online. The GX12 model comes with 13 things that do a lot of good stuff for your health. Start shopping now.\"\n",
    "len(text)\n",
    "adv.ad_from_string(text)\n",
    "# adv.ad_from_string(text, [125, 25, 30]) \n"
   ]
  }
 ],
 "metadata": {
  "kernelspec": {
   "display_name": "venv",
   "language": "python",
   "name": "python3"
  },
  "language_info": {
   "codemirror_mode": {
    "name": "ipython",
    "version": 3
   },
   "file_extension": ".py",
   "mimetype": "text/x-python",
   "name": "python",
   "nbconvert_exporter": "python",
   "pygments_lexer": "ipython3",
   "version": "3.8.0"
  }
 },
 "nbformat": 4,
 "nbformat_minor": 2
}
